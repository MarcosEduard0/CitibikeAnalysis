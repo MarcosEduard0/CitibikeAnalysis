{
 "cells": [
  {
   "cell_type": "code",
   "execution_count": 2,
   "metadata": {},
   "outputs": [],
   "source": [
    "import pandas as pd"
   ]
  },
  {
   "cell_type": "code",
   "execution_count": 3,
   "metadata": {},
   "outputs": [],
   "source": [
    "df1 = pd.read_csv('data/JC-201901-citibike-tripdata.csv')\n",
    "df2 = pd.read_csv('data/JC-201902-citibike-tripdata.csv')\n",
    "df3 = pd.read_csv('data/JC-201903-citibike-tripdata.csv')\n",
    "df4 = pd.read_csv('data/JC-201904-citibike-tripdata.csv')\n",
    "df5 = pd.read_csv('data/JC-201905-citibike-tripdata.csv')\n",
    "df6 = pd.read_csv('data/JC-201906-citibike-tripdata.csv')\n",
    "df7 = pd.read_csv('data/JC-201907-citibike-tripdata.csv')\n",
    "df8 = pd.read_csv('data/JC-201908-citibike-tripdata.csv')\n",
    "df9 = pd.read_csv('data/JC-201909-citibike-tripdata.csv')\n",
    "df10 = pd.read_csv('data/JC-201910-citibike-tripdata.csv')\n",
    "df11 = pd.read_csv('data/JC-201911-citibike-tripdata.csv')\n",
    "df12 = pd.read_csv('data/JC-201912-citibike-tripdata.csv')"
   ]
  },
  {
   "cell_type": "code",
   "execution_count": 4,
   "metadata": {},
   "outputs": [],
   "source": [
    "x = pd.concat([df1,df2,df3,df4,df5,df6,df7,df8,df9,df10,df11,df12])"
   ]
  },
  {
   "cell_type": "code",
   "execution_count": 5,
   "metadata": {},
   "outputs": [],
   "source": [
    "x.to_csv('data_bike2019.csv', index=False)"
   ]
  }
 ],
 "metadata": {
  "kernelspec": {
   "display_name": "Python 3.10.7 64-bit",
   "language": "python",
   "name": "python3"
  },
  "language_info": {
   "codemirror_mode": {
    "name": "ipython",
    "version": 3
   },
   "file_extension": ".py",
   "mimetype": "text/x-python",
   "name": "python",
   "nbconvert_exporter": "python",
   "pygments_lexer": "ipython3",
   "version": "3.10.7"
  },
  "orig_nbformat": 4,
  "vscode": {
   "interpreter": {
    "hash": "8edc000019d7851bcb93f645abcdc7e3159d4451ab9610fb6ecb081fe958828c"
   }
  }
 },
 "nbformat": 4,
 "nbformat_minor": 2
}
